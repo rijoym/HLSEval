{
 "cells": [
  {
   "cell_type": "markdown",
   "source": [
    "####################################################################\n",
    "An example to generate C++ codes for HLS by prompting LLMs\n",
    "with natural language problem descriptiom\n",
    "Author: Rijoy Mukherjee\n",
    "         Dept. of CSE, IIT Kharagpur\n",
    "         Kharagpur, West Bengal, India 721302\n",
    "         Email: rijoy.mukherjee@iitkgp.ac.in\n",
    "         Last modified: 19th July 2024\n",
    "####################################################################"
   ],
   "metadata": {
    "collapsed": false
   }
  },
  {
   "cell_type": "markdown",
   "metadata": {},
   "source": [
    "# For gpt-4o and gpt-3.5 \n",
    "Helper function to use OpenAI APIs.\n",
    "\n",
    "Please initialise with proper API keys."
   ]
  },
  {
   "cell_type": "code",
   "execution_count": 56,
   "metadata": {},
   "outputs": [],
   "source": [
    "from openai import OpenAI\n",
    "import os\n",
    "\n",
    "client = OpenAI(\n",
    "   api_key=\"xxxxxxxxxxxxxxxxxxxxxxxxxxxxxxxxxxxxxxxx\",\n",
    ")\n",
    "\n",
    "\n",
    "def get_completion_from_messages(messages,\n",
    "                                 model=\"gpt-3.5-turbo-0125\",\n",
    "                                 max_tokens=4096):\n",
    "    response = client.chat.completions.create(\n",
    "        model=model,\n",
    "        messages=messages,\n",
    "        top_p=0.95,  # chooses the smallest possible set of words whose cumulative probability exceeds the probability p\n",
    "        temperature=0.8,  # this is the degree of randomness of the model's output\n",
    "        max_tokens=max_tokens,  # the maximum number of tokens the model can output\n",
    "    )\n",
    "    return response.choices[0].message.content"
   ]
  },
  {
   "cell_type": "markdown",
   "metadata": {},
   "source": [
    "# For parsing jsonl files"
   ]
  },
  {
   "cell_type": "code",
   "execution_count": 57,
   "metadata": {},
   "outputs": [],
   "source": [
    "from typing import Iterable, Dict\n",
    "import gzip\n",
    "import json\n",
    "import os\n",
    "\n",
    "\n",
    "def stream_jsonl(filename: str) -> Iterable[Dict]:\n",
    "    \"\"\"\n",
    "    Parses each jsonl line and yields it as a dictionary\n",
    "    \"\"\"\n",
    "    if filename.endswith(\".gz\"):\n",
    "        with open(filename, \"rb\") as gzfp:\n",
    "            with gzip.open(gzfp, 'rt') as fp:\n",
    "                for line in fp:\n",
    "                    if any(not x.isspace() for x in line):\n",
    "                        yield json.loads(line)\n",
    "    else:\n",
    "        with open(filename, \"r\") as fp:\n",
    "            for line in fp:\n",
    "                if any(not x.isspace() for x in line):\n",
    "                    yield json.loads(line)\n",
    "\n",
    "\n",
    "def write_jsonl(filename: str, data: Iterable[Dict], append: bool = False):\n",
    "    \"\"\"\n",
    "    Writes an iterable of dictionaries to jsonl\n",
    "    \"\"\"\n",
    "    if append:\n",
    "        mode = 'ab'\n",
    "    else:\n",
    "        mode = 'wb'\n",
    "    filename = os.path.expanduser(filename)\n",
    "    if filename.endswith(\".gz\"):\n",
    "        with open(filename, mode) as fp:\n",
    "            with gzip.GzipFile(fileobj=fp, mode='wb') as gzfp:\n",
    "                for x in data:\n",
    "                    gzfp.write((json.dumps(x) + \"\\n\").encode('utf-8'))\n",
    "    else:\n",
    "        with open(filename, mode) as fp:\n",
    "            for x in data:\n",
    "                fp.write((json.dumps(x) + \"\\n\").encode('utf-8'))\n",
    "   "
   ]
  },
  {
   "cell_type": "markdown",
   "metadata": {},
   "source": [
    "# Load the jsonl file in pandas dataframe"
   ]
  },
  {
   "cell_type": "code",
   "execution_count": 58,
   "metadata": {},
   "outputs": [
    {
     "name": "stdout",
     "output_type": "stream",
     "text": [
      "           task_id                                problem_description  \\\n",
      "0        m2014_q4f  \\nImplement the following circuit in HLS. Two ...   \n",
      "1         step_one  Build a circuit with no inputs and one output....   \n",
      "2  ece241_2014_q1c  Assume that you have two 8-bit 2's complement ...   \n",
      "3        a2012_q1g  Consider the function f shown in the Karnaugh ...   \n",
      "4        a2012_q2b  Consider the state machine shown below:\\n\\n// ...   \n",
      "\n",
      "                                function_description  \n",
      "0  \\n#include <ap_int.h>\\nvoid m2014_q4f(ap_uint<...  \n",
      "1  \\n#include <ap_int.h>\\nvoid step_one(ap_uint<1...  \n",
      "2  \\n#include <ap_int.h>\\nvoid ece241_2014_q1c(ap...  \n",
      "3  \\n#include <ap_int.h>\\nvoid a2012_q1g (ap_uint...  \n",
      "4  \\n#include <ap_int.h>\\nvoid a2012_q2b(ap_uint<...  \n"
     ]
    }
   ],
   "source": [
    "import pandas as pd\n",
    "df_description = pd.DataFrame()\n",
    "for task in stream_jsonl(\"HLSEval-prompt.jsonl\"):\n",
    "    df_dictionary = pd.DataFrame([task])\n",
    "    df_description = pd.concat([df_description, df_dictionary], ignore_index=True)\n",
    "print(df_description.head())"
   ]
  },
  {
   "cell_type": "markdown",
   "metadata": {},
   "source": [
    "# Prepare the prompts for a particular task_id"
   ]
  },
  {
   "cell_type": "code",
   "execution_count": 59,
   "metadata": {},
   "outputs": [],
   "source": [
    "query1 = df_description.loc[23,'problem_description']\n",
    "query2 = df_description.loc[23, 'function_description']"
   ]
  },
  {
   "cell_type": "markdown",
   "metadata": {},
   "source": [
    "# System prompt, User prompt and One-shot example"
   ]
  },
  {
   "cell_type": "code",
   "execution_count": 60,
   "metadata": {},
   "outputs": [],
   "source": [
    "system_prompt = f\"\"\"\n",
    "Your task is to complete <FILL> portion in the given high-level synthesis (HLS) C++ program. The problem description and the function description is provided. Do not include any additional HLS pragma. A Reference example is provided which is delimited by triple backticks.\\n\"\"\"\n",
    "\n",
    "one_shot= f\"\"\"\n",
    "Example:\n",
    "```\n",
    "########problem description:\n",
    "\n",
    "Create a 2-1 multiplexer. When sel=0, choose a. When sel=1, choose b.\n",
    "\n",
    "########function description:\n",
    "#include <ap_int.h>\n",
    "void mux2to1v(ap_uint<100> a, ap_uint<100> b, ap_uint<1> sel, ap_uint<100>& out){{\n",
    "    #pragma HLS INTERFACE ap_none port=out\n",
    "    #pragma HLS INTERFACE ap_ctrl_none port=return\n",
    "    <FILL>\n",
    "}}\n",
    "\n",
    "########solution:\n",
    "#include <ap_int.h>\n",
    "void mux2to1v(ap_uint<100> a, ap_uint<100> b, ap_uint<1> sel, ap_uint<100>& out){{\n",
    "    #pragma HLS INTERFACE ap_none port=out\n",
    "    #pragma HLS INTERFACE ap_ctrl_none port=return\n",
    "    out = sel ? b : a;\n",
    "}}\n",
    "```\n",
    "\"\"\""
   ]
  },
  {
   "cell_type": "code",
   "execution_count": 61,
   "metadata": {},
   "outputs": [
    {
     "name": "stdout",
     "output_type": "stream",
     "text": [
      "########problem description:\n",
      "The 7400-series integrated circuits are a series of digital chips with a few gates each. The 7420 is a chip with two 4-input NAND gates.\n",
      "\n",
      "// Create a module with the same functionality as the 7420 chip. It has 8 inputs and 2 outputs.\n",
      "\n",
      "\n",
      "########function description:\n",
      "#include <ap_int.h>\n",
      "void a7420(ap_uint<1> p1a,  ap_uint<1>  p1b, ap_uint<1> p1c, ap_uint<1> p1d, ap_uint<1>& p1y, ap_uint<1> p2a, ap_uint<1> p2b, ap_uint<1> p2c, ap_uint<1> p2d, ap_uint<1>& p2y){\n",
      "    #pragma HLS INTERFACE ap_none port=p1y\n",
      "    #pragma HLS INTERFACE ap_none port=p2y\n",
      "    #pragma HLS INTERFACE ap_ctrl_none port=return\n",
      "    <FILL>\n",
      "}\n",
      "Do not add any additional functions.\n",
      "########solution:\n"
     ]
    }
   ],
   "source": [
    "\n",
    "user_prompt = \"########problem description:\\n\" + query1 + \"########function description:\" + query2 +\"Do not add any additional functions.\"+ \"\\n########solution:\"\n",
    "print(user_prompt)"
   ]
  },
  {
   "cell_type": "markdown",
   "metadata": {},
   "source": [
    "# For gpt-3.5, prompt and response"
   ]
  },
  {
   "cell_type": "code",
   "execution_count": 62,
   "metadata": {},
   "outputs": [
    {
     "name": "stdout",
     "output_type": "stream",
     "text": [
      "```\n",
      "#include <ap_int.h>\n",
      "void a7420(ap_uint<1> p1a,  ap_uint<1>  p1b, ap_uint<1> p1c, ap_uint<1> p1d, ap_uint<1>& p1y, ap_uint<1> p2a, ap_uint<1> p2b, ap_uint<1> p2c, ap_uint<1> p2d, ap_uint<1>& p2y){\n",
      "    #pragma HLS INTERFACE ap_none port=p1y\n",
      "    #pragma HLS INTERFACE ap_none port=p2y\n",
      "    #pragma HLS INTERFACE ap_ctrl_none port=return\n",
      "    p1y = !(p1a & p1b & p1c & p1d);\n",
      "    p2y = !(p2a & p2b & p2c & p2d);\n",
      "}\n",
      "```\n"
     ]
    }
   ],
   "source": [
    "messages =  [\n",
    "{'role':'system',\n",
    " 'content':system_prompt+ one_shot},\n",
    "{'role':'user',\n",
    " 'content':user_prompt},\n",
    "]\n",
    "response = get_completion_from_messages(messages, model=\"gpt-3.5-turbo\", max_tokens=2048)\n",
    "\n",
    "\n",
    " \n",
    "# printing original string\n",
    "print(str(response))"
   ]
  },
  {
   "cell_type": "markdown",
   "metadata": {},
   "source": [
    "# For gpt-4o, prompt and response"
   ]
  },
  {
   "cell_type": "code",
   "execution_count": 63,
   "metadata": {},
   "outputs": [
    {
     "name": "stdout",
     "output_type": "stream",
     "text": [
      "```\n",
      "########problem description:\n",
      "The 7400-series integrated circuits are a series of digital chips with a few gates each. The 7420 is a chip with two 4-input NAND gates.\n",
      "\n",
      "// Create a module with the same functionality as the 7420 chip. It has 8 inputs and 2 outputs.\n",
      "\n",
      "\n",
      "########function description:\n",
      "#include <ap_int.h>\n",
      "void a7420(ap_uint<1> p1a,  ap_uint<1>  p1b, ap_uint<1> p1c, ap_uint<1> p1d, ap_uint<1>& p1y, ap_uint<1> p2a, ap_uint<1> p2b, ap_uint<1> p2c, ap_uint<1> p2d, ap_uint<1>& p2y){\n",
      "    #pragma HLS INTERFACE ap_none port=p1y\n",
      "    #pragma HLS INTERFACE ap_none port=p2y\n",
      "    #pragma HLS INTERFACE ap_ctrl_none port=return\n",
      "    p1y = !(p1a & p1b & p1c & p1d);\n",
      "    p2y = !(p2a & p2b & p2c & p2d);\n",
      "}\n",
      "########solution:\n",
      "```\n"
     ]
    }
   ],
   "source": [
    "messages =  [\n",
    "{'role':'system',\n",
    " 'content':system_prompt+ one_shot},\n",
    "{'role':'user',\n",
    " 'content':user_prompt},\n",
    "]\n",
    "response = get_completion_from_messages(messages, model=\"gpt-4o\", max_tokens=2048)\n",
    " \n",
    "# printing original string\n",
    "print(str(response))"
   ]
  },
  {
   "cell_type": "markdown",
   "metadata": {},
   "source": [
    "# For Claude3 Haiku, prompt and response\n",
    "We are using AWS Bedrock for accessing the Anthropic Claude APIs.\n",
    "\n",
    "Please initialise with proper API keys."
   ]
  },
  {
   "cell_type": "code",
   "execution_count": 64,
   "metadata": {},
   "outputs": [
    {
     "name": "stdout",
     "output_type": "stream",
     "text": [
      "Here's the solution for the given problem:\n",
      "\n",
      "```cpp\n",
      "#include <ap_int.h>\n",
      "\n",
      "void a7420(ap_uint<1> p1a, ap_uint<1> p1b, ap_uint<1> p1c, ap_uint<1> p1d, ap_uint<1>& p1y, ap_uint<1> p2a, ap_uint<1> p2b, ap_uint<1> p2c, ap_uint<1> p2d, ap_uint<1>& p2y) {\n",
      "    #pragma HLS INTERFACE ap_none port=p1y\n",
      "    #pragma HLS INTERFACE ap_none port=p2y\n",
      "    #pragma HLS INTERFACE ap_ctrl_none port=return\n",
      "\n",
      "    p1y = !(p1a & p1b & p1c & p1d);\n",
      "    p2y = !(p2a & p2b & p2c & p2d);\n",
      "}\n",
      "```\n",
      "\n",
      "The `<FILL>` portion is completed with the implementation of the 7420 chip functionality. The 7420 chip has two 4-input NAND gates, so the output of each NAND gate is the negation of the logical AND of the four input signals.\n",
      "\n",
      "In the provided code, the `p1y` output is set to the negation of the logical AND of the four inputs `p1a`, `p1b`, `p1c`, and `p1d`. Similarly, the `p2y` output is set to the negation of the logical AND of the four inputs `p2a`, `p2b`, `p2c`, and `p2d`.\n",
      "\n",
      "No additional HLS pragmas are required for this implementation.\n"
     ]
    }
   ],
   "source": [
    "\n",
    "import boto3\n",
    "import json\n",
    "import re\n",
    "\n",
    "client = boto3.client(\n",
    "  service_name='bedrock-runtime',\n",
    "  region_name='ap-south-1',\n",
    "  aws_access_key_id=\"xxxxxxxxxxxxxxxxxxxxxxx\",\n",
    "  aws_secret_access_key=\"xxxxxxxxxxxxxxxxxxxxxx\"\n",
    ")\n",
    "\n",
    "payload={\n",
    "    \"body\":{ \n",
    "        \"anthropic_version\":\"bedrock-2023-05-31\",\n",
    "        \"max_tokens\":2048,\n",
    "        \n",
    "        \"messages\":[\n",
    "            {\n",
    "                \"role\":\"user\",\n",
    "                \"content\": system_prompt+ one_shot+ user_prompt\n",
    "            \n",
    "            }\n",
    "        ]\n",
    "    }\n",
    "}\n",
    "\n",
    "payload_json=json.dumps(payload[\"body\"])\n",
    "\n",
    "response = client.invoke_model(body=payload_json, modelId='anthropic.claude-3-haiku-20240307-v1:0',accept='application/json',contentType='application/json')\n",
    "\n",
    "response_body=json.loads(response.get('body').read())\n",
    "response_final=response_body['content']\n",
    "response_dict=response_final[0]\n",
    "response_main=response_dict['text']\n",
    "print(response_main)"
   ]
  },
  {
   "cell_type": "markdown",
   "metadata": {},
   "source": [
    "# For Claude3.5 Sonnet, prompt and response"
   ]
  },
  {
   "cell_type": "code",
   "execution_count": 65,
   "metadata": {},
   "outputs": [
    {
     "name": "stdout",
     "output_type": "stream",
     "text": [
      "Here's the completed HLS C++ function for the 7420 chip, which implements two 4-input NAND gates:\n",
      "\n",
      "```cpp\n",
      "#include <ap_int.h>\n",
      "void a7420(ap_uint<1> p1a,  ap_uint<1>  p1b, ap_uint<1> p1c, ap_uint<1> p1d, ap_uint<1>& p1y, ap_uint<1> p2a, ap_uint<1> p2b, ap_uint<1> p2c, ap_uint<1> p2d, ap_uint<1>& p2y){\n",
      "    #pragma HLS INTERFACE ap_none port=p1y\n",
      "    #pragma HLS INTERFACE ap_none port=p2y\n",
      "    #pragma HLS INTERFACE ap_ctrl_none port=return\n",
      "    p1y = !(p1a & p1b & p1c & p1d);\n",
      "    p2y = !(p2a & p2b & p2c & p2d);\n",
      "}\n",
      "```\n",
      "\n",
      "This solution implements the functionality of the 7420 chip as follows:\n",
      "\n",
      "1. The first NAND gate is implemented using the inputs p1a, p1b, p1c, and p1d, with the output assigned to p1y.\n",
      "2. The second NAND gate is implemented using the inputs p2a, p2b, p2c, and p2d, with the output assigned to p2y.\n",
      "3. For each gate, we perform a logical AND operation on all four inputs and then negate the result to achieve the NAND functionality.\n",
      "\n",
      "This implementation correctly represents the behavior of the 7420 chip, which contains two 4-input NAND gates.\n"
     ]
    }
   ],
   "source": [
    "import boto3\n",
    "import json\n",
    "import re\n",
    "\n",
    "client = boto3.client(\n",
    "  service_name='bedrock-runtime',\n",
    "  region_name='us-east-1',\n",
    "  aws_access_key_id=\"xxxxxxxxxxxxxxxxxxx\",\n",
    "  aws_secret_access_key=\"xxxxxxxxxxxxxxxxxxxxx\"\n",
    ")\n",
    "\n",
    "payload={\n",
    "    \"body\":{ \n",
    "        \"anthropic_version\":\"bedrock-2023-05-31\",\n",
    "        \"max_tokens\":2048,\n",
    "        \"messages\":[\n",
    "            {\n",
    "                \"role\":\"user\",\n",
    "                \"content\": system_prompt+ one_shot+ user_prompt\n",
    "            }\n",
    "        ]\n",
    "    }\n",
    "}\n",
    "\n",
    "payload_json=json.dumps(payload[\"body\"])\n",
    "\n",
    "response = client.invoke_model(body=payload_json, modelId='anthropic.claude-3-5-sonnet-20240620-v1:0',accept='application/json',contentType='application/json')\n",
    "\n",
    "response_body=json.loads(response.get('body').read())\n",
    "response_final=response_body['content']\n",
    "response_dict=response_final[0]\n",
    "response_main=response_dict['text']\n",
    "#print(payload[\"body\"][\"messages\"])\n",
    "print(response_main)"
   ]
  },
  {
   "cell_type": "code",
   "execution_count": null,
   "metadata": {},
   "outputs": [],
   "source": []
  }
 ],
 "metadata": {
  "kernelspec": {
   "display_name": "base",
   "language": "python",
   "name": "python3"
  },
  "language_info": {
   "codemirror_mode": {
    "name": "ipython",
    "version": 3
   },
   "file_extension": ".py",
   "mimetype": "text/x-python",
   "name": "python",
   "nbconvert_exporter": "python",
   "pygments_lexer": "ipython3",
   "version": "3.12.2"
  }
 },
 "nbformat": 4,
 "nbformat_minor": 2
}
